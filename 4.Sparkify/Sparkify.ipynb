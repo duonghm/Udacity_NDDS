{
 "cells": [
  {
   "cell_type": "markdown",
   "metadata": {},
   "source": [
    "# Sparkify Project Workspace\n",
    "This workspace contains a tiny subset (128MB) of the full dataset available (12GB). Feel free to use this workspace to build your project, or to explore a smaller subset with Spark before deploying your cluster on the cloud. Instructions for setting up your Spark cluster is included in the last lesson of the Extracurricular Spark Course content.\n",
    "\n",
    "You can follow the steps below to guide your data analysis and model building portion of this project."
   ]
  },
  {
   "cell_type": "code",
   "execution_count": 1,
   "metadata": {
    "ExecuteTime": {
     "end_time": "2022-04-13T10:05:57.458403Z",
     "start_time": "2022-04-13T10:05:55.880496Z"
    }
   },
   "outputs": [],
   "source": [
    "# import libraries\n",
    "import pyspark\n",
    "from pyspark.sql import SparkSession\n",
    "from pyspark.sql.types import IntegerType, StringType\n",
    "from pyspark.sql import Window\n",
    "import pyspark.sql.functions as F\n",
    "from pyspark.ml.classification import LinearSVC, LogisticRegression, NaiveBayes, GBTClassifier, RandomForestClassifier, MultilayerPerceptronClassifier\n",
    "from pyspark.ml.evaluation import BinaryClassificationEvaluator, MulticlassClassificationEvaluator\n",
    "from pyspark.ml.tuning import CrossValidator, ParamGridBuilder\n",
    "import matplotlib.pyplot as plt\n",
    "import numpy as np\n",
    "from IPython.display import display, HTML\n",
    "import pandas as pd\n",
    "from statsmodels.graphics.mosaicplot import mosaic\n",
    "from statsmodels.stats.weightstats import ztest"
   ]
  },
  {
   "cell_type": "code",
   "execution_count": 2,
   "metadata": {
    "ExecuteTime": {
     "end_time": "2022-04-13T10:06:06.795498Z",
     "start_time": "2022-04-13T10:05:57.460405Z"
    }
   },
   "outputs": [],
   "source": [
    "# create a Spark session\n",
    "spark = SparkSession.builder.getOrCreate()"
   ]
  },
  {
   "cell_type": "markdown",
   "metadata": {},
   "source": [
    "# 1. Load and Clean Dataset\n",
    "In this workspace, the mini-dataset file is `mini_sparkify_event_data.json`. Load and clean the dataset, checking for invalid or missing data - for example, records without userids or sessionids. "
   ]
  },
  {
   "cell_type": "code",
   "execution_count": 3,
   "metadata": {
    "ExecuteTime": {
     "end_time": "2022-04-13T10:06:12.719017Z",
     "start_time": "2022-04-13T10:06:06.797512Z"
    }
   },
   "outputs": [],
   "source": [
    "df = spark.read.json('mini_sparkify_event_data.json')"
   ]
  },
  {
   "cell_type": "markdown",
   "metadata": {},
   "source": [
    "## 1.1 Preview data"
   ]
  },
  {
   "cell_type": "code",
   "execution_count": 4,
   "metadata": {
    "ExecuteTime": {
     "end_time": "2022-04-13T10:06:13.229943Z",
     "start_time": "2022-04-13T10:06:12.721019Z"
    }
   },
   "outputs": [
    {
     "name": "stdout",
     "output_type": "stream",
     "text": [
      "+----------------+---------+---------+------+-------------+--------+---------+-----+------------------------------+------+--------+-------------+---------+-----------------------------+------+-------------+---------------------------------------------------------------------------------------------------------------+------+\n",
      "|artist          |auth     |firstName|gender|itemInSession|lastName|length   |level|location                      |method|page    |registration |sessionId|song                         |status|ts           |userAgent                                                                                                      |userId|\n",
      "+----------------+---------+---------+------+-------------+--------+---------+-----+------------------------------+------+--------+-------------+---------+-----------------------------+------+-------------+---------------------------------------------------------------------------------------------------------------+------+\n",
      "|Martha Tilston  |Logged In|Colin    |M     |50           |Freeman |277.89016|paid |Bakersfield, CA               |PUT   |NextSong|1538173362000|29       |Rockpools                    |200   |1538352117000|Mozilla/5.0 (Windows NT 6.1; WOW64; rv:31.0) Gecko/20100101 Firefox/31.0                                       |30    |\n",
      "|Five Iron Frenzy|Logged In|Micah    |M     |79           |Long    |236.09424|free |Boston-Cambridge-Newton, MA-NH|PUT   |NextSong|1538331630000|8        |Canada                       |200   |1538352180000|\"Mozilla/5.0 (Windows NT 6.1; WOW64) AppleWebKit/537.36 (KHTML, like Gecko) Chrome/37.0.2062.103 Safari/537.36\"|9     |\n",
      "|Adam Lambert    |Logged In|Colin    |M     |51           |Freeman |282.8273 |paid |Bakersfield, CA               |PUT   |NextSong|1538173362000|29       |Time For Miracles            |200   |1538352394000|Mozilla/5.0 (Windows NT 6.1; WOW64; rv:31.0) Gecko/20100101 Firefox/31.0                                       |30    |\n",
      "|Enigma          |Logged In|Micah    |M     |80           |Long    |262.71302|free |Boston-Cambridge-Newton, MA-NH|PUT   |NextSong|1538331630000|8        |Knocking On Forbidden Doors  |200   |1538352416000|\"Mozilla/5.0 (Windows NT 6.1; WOW64) AppleWebKit/537.36 (KHTML, like Gecko) Chrome/37.0.2062.103 Safari/537.36\"|9     |\n",
      "|Daft Punk       |Logged In|Colin    |M     |52           |Freeman |223.60771|paid |Bakersfield, CA               |PUT   |NextSong|1538173362000|29       |Harder Better Faster Stronger|200   |1538352676000|Mozilla/5.0 (Windows NT 6.1; WOW64; rv:31.0) Gecko/20100101 Firefox/31.0                                       |30    |\n",
      "+----------------+---------+---------+------+-------------+--------+---------+-----+------------------------------+------+--------+-------------+---------+-----------------------------+------+-------------+---------------------------------------------------------------------------------------------------------------+------+\n",
      "only showing top 5 rows\n",
      "\n"
     ]
    }
   ],
   "source": [
    "df.show(5, truncate=False)"
   ]
  },
  {
   "cell_type": "code",
   "execution_count": 5,
   "metadata": {
    "ExecuteTime": {
     "end_time": "2022-04-13T10:06:13.244993Z",
     "start_time": "2022-04-13T10:06:13.231946Z"
    }
   },
   "outputs": [
    {
     "name": "stdout",
     "output_type": "stream",
     "text": [
      "root\n",
      " |-- artist: string (nullable = true)\n",
      " |-- auth: string (nullable = true)\n",
      " |-- firstName: string (nullable = true)\n",
      " |-- gender: string (nullable = true)\n",
      " |-- itemInSession: long (nullable = true)\n",
      " |-- lastName: string (nullable = true)\n",
      " |-- length: double (nullable = true)\n",
      " |-- level: string (nullable = true)\n",
      " |-- location: string (nullable = true)\n",
      " |-- method: string (nullable = true)\n",
      " |-- page: string (nullable = true)\n",
      " |-- registration: long (nullable = true)\n",
      " |-- sessionId: long (nullable = true)\n",
      " |-- song: string (nullable = true)\n",
      " |-- status: long (nullable = true)\n",
      " |-- ts: long (nullable = true)\n",
      " |-- userAgent: string (nullable = true)\n",
      " |-- userId: string (nullable = true)\n",
      "\n"
     ]
    }
   ],
   "source": [
    "df.printSchema()"
   ]
  },
  {
   "cell_type": "markdown",
   "metadata": {
    "ExecuteTime": {
     "end_time": "2022-04-12T03:34:23.995244Z",
     "start_time": "2022-04-12T03:34:23.985211Z"
    }
   },
   "source": [
    "## 1.2 Clean data"
   ]
  },
  {
   "cell_type": "code",
   "execution_count": 6,
   "metadata": {
    "ExecuteTime": {
     "end_time": "2022-04-13T10:06:14.264514Z",
     "start_time": "2022-04-13T10:06:13.247515Z"
    }
   },
   "outputs": [
    {
     "data": {
      "text/plain": [
       "286500"
      ]
     },
     "execution_count": 6,
     "metadata": {},
     "output_type": "execute_result"
    }
   ],
   "source": [
    "df.count()"
   ]
  },
  {
   "cell_type": "code",
   "execution_count": 7,
   "metadata": {
    "ExecuteTime": {
     "end_time": "2022-04-13T10:06:16.051353Z",
     "start_time": "2022-04-13T10:06:14.266516Z"
    }
   },
   "outputs": [
    {
     "name": "stdout",
     "output_type": "stream",
     "text": [
      "Number of null value on each column\n",
      "+------+----+---------+------+-------------+--------+------+-----+--------+------+----+------------+---------+-----+------+---+---------+------+\n",
      "|artist|auth|firstName|gender|itemInSession|lastName|length|level|location|method|page|registration|sessionId| song|status| ts|userAgent|userId|\n",
      "+------+----+---------+------+-------------+--------+------+-----+--------+------+----+------------+---------+-----+------+---+---------+------+\n",
      "| 58392|   0|     8346|  8346|            0|    8346| 58392|    0|    8346|     0|   0|        8346|        0|58392|     0|  0|     8346|  8346|\n",
      "+------+----+---------+------+-------------+--------+------+-----+--------+------+----+------------+---------+-----+------+---+---------+------+\n",
      "\n"
     ]
    }
   ],
   "source": [
    "print('Number of null value on each column')\n",
    "df.select(\n",
    "    [F.count(F.when(F.col(c).isNull() | F.col(c).eqNullSafe(''), 1)).alias(c) for c in df.columns]\n",
    ").show()"
   ]
  },
  {
   "cell_type": "code",
   "execution_count": 8,
   "metadata": {
    "ExecuteTime": {
     "end_time": "2022-04-13T10:06:16.424350Z",
     "start_time": "2022-04-13T10:06:16.053357Z"
    }
   },
   "outputs": [
    {
     "name": "stdout",
     "output_type": "stream",
     "text": [
      "+------+---------+---------+------+-------------+--------+------+-----+--------------------+------+---------------+-------------+---------+----+------+-------------+--------------------+------+\n",
      "|artist|     auth|firstName|gender|itemInSession|lastName|length|level|            location|method|           page| registration|sessionId|song|status|           ts|           userAgent|userId|\n",
      "+------+---------+---------+------+-------------+--------+------+-----+--------------------+------+---------------+-------------+---------+----+------+-------------+--------------------+------+\n",
      "|  null|Logged In|    Colin|     M|           54| Freeman|  null| paid|     Bakersfield, CA|   PUT|Add to Playlist|1538173362000|       29|null|   200|1538352905000|Mozilla/5.0 (Wind...|    30|\n",
      "|  null|Logged In|    Micah|     M|           84|    Long|  null| free|Boston-Cambridge-...|   GET|    Roll Advert|1538331630000|        8|null|   200|1538353150000|\"Mozilla/5.0 (Win...|     9|\n",
      "|  null|Logged In|    Micah|     M|           86|    Long|  null| free|Boston-Cambridge-...|   PUT|      Thumbs Up|1538331630000|        8|null|   307|1538353376000|\"Mozilla/5.0 (Win...|     9|\n",
      "|  null|Logged In|    Alexi|     F|            4|  Warren|  null| paid|Spokane-Spokane V...|   GET|      Downgrade|1532482662000|       53|null|   200|1538354749000|Mozilla/5.0 (Wind...|    54|\n",
      "|  null|Logged In|    Alexi|     F|            7|  Warren|  null| paid|Spokane-Spokane V...|   PUT|      Thumbs Up|1532482662000|       53|null|   307|1538355255000|Mozilla/5.0 (Wind...|    54|\n",
      "+------+---------+---------+------+-------------+--------+------+-----+--------------------+------+---------------+-------------+---------+----+------+-------------+--------------------+------+\n",
      "only showing top 5 rows\n",
      "\n"
     ]
    }
   ],
   "source": [
    "# preview null values data\n",
    "df.where('song is null').show(5)"
   ]
  },
  {
   "cell_type": "code",
   "execution_count": 9,
   "metadata": {
    "ExecuteTime": {
     "end_time": "2022-04-13T10:06:16.614883Z",
     "start_time": "2022-04-13T10:06:16.426354Z"
    }
   },
   "outputs": [
    {
     "name": "stdout",
     "output_type": "stream",
     "text": [
      "+------+----------+---------+------+-------------+--------+------+-----+--------+------+-----+------------+---------+----+------+-------------+---------+------+\n",
      "|artist|      auth|firstName|gender|itemInSession|lastName|length|level|location|method| page|registration|sessionId|song|status|           ts|userAgent|userId|\n",
      "+------+----------+---------+------+-------------+--------+------+-----+--------+------+-----+------------+---------+----+------+-------------+---------+------+\n",
      "|  null|Logged Out|     null|  null|          100|    null|  null| free|    null|   GET| Home|        null|        8|null|   200|1538355745000|     null|      |\n",
      "|  null|Logged Out|     null|  null|          101|    null|  null| free|    null|   GET| Help|        null|        8|null|   200|1538355807000|     null|      |\n",
      "|  null|Logged Out|     null|  null|          102|    null|  null| free|    null|   GET| Home|        null|        8|null|   200|1538355841000|     null|      |\n",
      "|  null|Logged Out|     null|  null|          103|    null|  null| free|    null|   PUT|Login|        null|        8|null|   307|1538355842000|     null|      |\n",
      "|  null|Logged Out|     null|  null|            2|    null|  null| free|    null|   GET| Home|        null|      240|null|   200|1538356678000|     null|      |\n",
      "+------+----------+---------+------+-------------+--------+------+-----+--------+------+-----+------------+---------+----+------+-------------+---------+------+\n",
      "only showing top 5 rows\n",
      "\n"
     ]
    }
   ],
   "source": [
    "# preview null users data\n",
    "df.where('userId = \"\"').show(5)"
   ]
  },
  {
   "cell_type": "code",
   "execution_count": 10,
   "metadata": {
    "ExecuteTime": {
     "end_time": "2022-04-13T10:06:16.646885Z",
     "start_time": "2022-04-13T10:06:16.618884Z"
    }
   },
   "outputs": [],
   "source": [
    "df = df.dropna(subset=['userId', 'sessionId'])\n",
    "df = df.where('userId != \"\"')"
   ]
  },
  {
   "cell_type": "code",
   "execution_count": 11,
   "metadata": {
    "ExecuteTime": {
     "end_time": "2022-04-13T10:06:17.172884Z",
     "start_time": "2022-04-13T10:06:16.648884Z"
    }
   },
   "outputs": [
    {
     "data": {
      "text/plain": [
       "278154"
      ]
     },
     "execution_count": 11,
     "metadata": {},
     "output_type": "execute_result"
    }
   ],
   "source": [
    "df.count()"
   ]
  },
  {
   "cell_type": "code",
   "execution_count": 12,
   "metadata": {
    "ExecuteTime": {
     "end_time": "2022-04-13T10:06:18.422978Z",
     "start_time": "2022-04-13T10:06:17.174885Z"
    }
   },
   "outputs": [
    {
     "name": "stdout",
     "output_type": "stream",
     "text": [
      "Number of null value on each column after clean data\n",
      "+------+----+---------+------+-------------+--------+------+-----+--------+------+----+------------+---------+-----+------+---+---------+------+\n",
      "|artist|auth|firstName|gender|itemInSession|lastName|length|level|location|method|page|registration|sessionId| song|status| ts|userAgent|userId|\n",
      "+------+----+---------+------+-------------+--------+------+-----+--------+------+----+------------+---------+-----+------+---+---------+------+\n",
      "| 50046|   0|        0|     0|            0|       0| 50046|    0|       0|     0|   0|           0|        0|50046|     0|  0|        0|     0|\n",
      "+------+----+---------+------+-------------+--------+------+-----+--------+------+----+------------+---------+-----+------+---+---------+------+\n",
      "\n"
     ]
    }
   ],
   "source": [
    "print('Number of null value on each column after clean data')\n",
    "df.select(\n",
    "    [F.count(F.when(F.col(c).isNull() | F.col(c).eqNullSafe(''), 1)).alias(c) for c in df.columns]\n",
    ").show()"
   ]
  },
  {
   "cell_type": "markdown",
   "metadata": {},
   "source": [
    "# 2. Exploratory Data Analysis\n",
    "When you're working with the full dataset, perform EDA by loading a small subset of the data and doing basic manipulations within Spark. In this workspace, you are already provided a small subset of data you can explore.\n",
    "\n",
    "### Define Churn\n",
    "\n",
    "Once you've done some preliminary analysis, create a column `Churn` to use as the label for your model. I suggest using the `Cancellation Confirmation` events to define your churn, which happen for both paid and free users. As a bonus task, you can also look into the `Downgrade` events.\n",
    "\n",
    "### Explore Data\n",
    "Once you've defined churn, perform some exploratory data analysis to observe the behavior for users who stayed vs users who churned. You can start by exploring aggregates on these two groups of users, observing how much of a specific action they experienced per a certain time unit or number of songs played."
   ]
  },
  {
   "cell_type": "markdown",
   "metadata": {},
   "source": [
    "## 2.1 Define Churn"
   ]
  },
  {
   "cell_type": "code",
   "execution_count": 13,
   "metadata": {
    "ExecuteTime": {
     "end_time": "2022-04-13T10:06:19.953313Z",
     "start_time": "2022-04-13T10:06:18.424985Z"
    }
   },
   "outputs": [
    {
     "name": "stdout",
     "output_type": "stream",
     "text": [
      "+-------------------------+------+\n",
      "|page                     |count |\n",
      "+-------------------------+------+\n",
      "|NextSong                 |228108|\n",
      "|Thumbs Up                |12551 |\n",
      "|Home                     |10082 |\n",
      "|Add to Playlist          |6526  |\n",
      "|Add Friend               |4277  |\n",
      "|Roll Advert              |3933  |\n",
      "|Logout                   |3226  |\n",
      "|Thumbs Down              |2546  |\n",
      "|Downgrade                |2055  |\n",
      "|Settings                 |1514  |\n",
      "|Help                     |1454  |\n",
      "|Upgrade                  |499   |\n",
      "|About                    |495   |\n",
      "|Save Settings            |310   |\n",
      "|Error                    |252   |\n",
      "|Submit Upgrade           |159   |\n",
      "|Submit Downgrade         |63    |\n",
      "|Cancel                   |52    |\n",
      "|Cancellation Confirmation|52    |\n",
      "+-------------------------+------+\n",
      "\n"
     ]
    }
   ],
   "source": [
    "df.groupby(['page']).count().sort('count', ascending=False).show(truncate=False)"
   ]
  },
  {
   "cell_type": "code",
   "execution_count": 14,
   "metadata": {
    "ExecuteTime": {
     "end_time": "2022-04-13T10:06:20.048902Z",
     "start_time": "2022-04-13T10:06:19.955314Z"
    }
   },
   "outputs": [],
   "source": [
    "def is_churn(page):\n",
    "    return 1 if page == 'Cancellation Confirmation' else 0    \n",
    "    \n",
    "\n",
    "udf_is_churn = F.udf(is_churn, StringType())\n",
    "\n",
    "\n",
    "df = df.withColumn('churn', udf_is_churn(F.col('page')))\n",
    "df = df.withColumn('churn', F.sum('churn').over(\n",
    "    Window.partitionBy('userId').orderBy('ts').rowsBetween(Window.unboundedPreceding, 0)\n",
    "))"
   ]
  },
  {
   "cell_type": "markdown",
   "metadata": {},
   "source": [
    "For each customer, we calculate their information, which are:\n",
    "  - is_churn: churned user or or not (predicted target)\n",
    "  - gender: user gender (M, F)\n",
    "  - firstName: user first name \n",
    "  - lastName: user last name\n",
    "  - location: user location\n",
    "  - n_req: Total request number of user\n",
    "  - n_session: Number of sessions of user\n",
    "  - n_artist: Number of unique artists that user listened to\n",
    "  - n_song: Number of unique songs that user listened to\n",
    "  - ser_days: Number of days that we provide service to user since registered\n",
    "  - avg_length: Average length of song that user listened to\n",
    "  - n_thumb_up: Number of thumb up (like) from user\n",
    "  - n_thumb_down: Number of thumb down (dislike) from user"
   ]
  },
  {
   "cell_type": "code",
   "execution_count": 15,
   "metadata": {
    "ExecuteTime": {
     "end_time": "2022-04-13T10:06:20.304902Z",
     "start_time": "2022-04-13T10:06:20.049903Z"
    }
   },
   "outputs": [
    {
     "data": {
      "text/plain": [
       "DataFrame[userId: string, gender: string, firstName: string, lastName: string, location: string, is_churn: double, n_req: bigint, n_session: bigint, n_artist: bigint, n_song: bigint, ser_days: double, avg_length: double, n_thumb_up: bigint, n_thumb_down: bigint]"
      ]
     },
     "execution_count": 15,
     "metadata": {},
     "output_type": "execute_result"
    }
   ],
   "source": [
    "df_user_summary = df.groupby(['userId', 'gender', 'firstName', 'lastName', 'location']).agg(\n",
    "    F.max(F.col('churn')).alias('is_churn'),\n",
    "    F.count(F.col('churn')).alias('n_req'),\n",
    "    F.countDistinct(F.col('sessionId')).alias('n_session'),\n",
    "    F.countDistinct(F.col('artist')).alias('n_artist'),\n",
    "    F.countDistinct(F.col('song')).alias('n_song'),    \n",
    "    ((F.max('ts')-F.min('registration'))/86400/1000).alias('ser_days'),\n",
    "    F.mean(F.col('length')).alias('avg_length'),    \n",
    "    F.count(F.when(F.col('page')=='Thumbs Up', 1)).alias('n_thumb_up'),    \n",
    "    F.count(F.when(F.col('page')=='Thumbs Down', 1)).alias('n_thumb_down')\n",
    ").repartition(12)\n",
    "df_user_summary.cache()"
   ]
  },
  {
   "cell_type": "code",
   "execution_count": 16,
   "metadata": {
    "ExecuteTime": {
     "end_time": "2022-04-13T10:06:45.364147Z",
     "start_time": "2022-04-13T10:06:20.306905Z"
    }
   },
   "outputs": [
    {
     "name": "stdout",
     "output_type": "stream",
     "text": [
      "+------+------+---------+---------+--------------------+--------+-----+---------+--------+------+------------------+------------------+----------+------------+\n",
      "|userId|gender|firstName| lastName|            location|is_churn|n_req|n_session|n_artist|n_song|          ser_days|        avg_length|n_thumb_up|n_thumb_down|\n",
      "+------+------+---------+---------+--------------------+--------+-----+---------+--------+------+------------------+------------------+----------+------------+\n",
      "|   125|     M|    Mason|     Hart|  Corpus Christi, TX|     1.0|   11|        1|       8|     8| 71.31688657407408|261.13913750000006|         0|           0|\n",
      "|100011|     M|Sebastian|     Ball|          Albany, OR|     1.0|   23|        1|      11|    11| 5.165115740740741|258.33631818181817|         0|           1|\n",
      "|100024|     M| Jonathon|   Miller|New York-Newark-J...|     1.0|   36|        1|      22|    22| 27.22165509259259|234.56963954545455|         5|           0|\n",
      "|100006|     F|    Leyla|   Barnes|           Flint, MI|     1.0|   44|        1|      26|    26| 9.127164351851853|225.18811730769232|         2|           2|\n",
      "|   122|     F|    Molly|Patterson|   Memphis, TN-MS-AR|     1.0|   62|        4|      41|    41| 52.81670138888889|231.27114487804874|         3|           1|\n",
      "|100017|     M|    James|     Mann|Birmingham-Hoover...|     1.0|   75|        1|      51|    51| 78.88440972222222|235.80237307692306|         2|           1|\n",
      "|100003|     F|   Nevaeh|    Jones|Miami-Fort Lauder...|     1.0|   78|        2|      50|    51|22.748113425925926|241.30233960784318|         3|           0|\n",
      "|100019|     M|    Angel|   Jacobs|Spokane-Spokane V...|     1.0|   89|        2|      61|    61| 31.19925925925926|251.37208177419348|         1|           1|\n",
      "|    32|     M|    Diego|    Mckee|Phoenix-Mesa-Scot...|     1.0|  108|        3|      76|    80|21.590891203703706|248.08868937499997|         7|           1|\n",
      "|300007|     M|    Lucas| Franklin|Phoenix-Mesa-Scot...|     1.0|  143|        1|     107|   111|11.553703703703704| 252.5109052252254|        11|           1|\n",
      "|   143|     F|    Molly| Harrison|Virginia Beach-No...|     1.0|  149|        6|      98|    99| 61.73311342592593|248.42765712871287|         5|           0|\n",
      "|200001|     M|    Reece|    Moore|Washington-Arling...|     1.0|  158|        6|     110|   114|15.909027777777778|267.76714199999986|        10|           1|\n",
      "|100001|     F|  Delaney|    Perez|Miami-Fort Lauder...|     1.0|  187|        4|     125|   129| 44.80021990740741|263.71234699248123|         8|           2|\n",
      "|100005|     M|    Cason|    Smith|          Monroe, LA|     1.0|  216|        5|     149|   153| 85.19559027777778|240.50079227272732|         7|           3|\n",
      "|     3|     M|  Jeffery|  Wheeler|         Bozeman, MT|     1.0|  254|        4|     197|   211| 80.89527777777778|254.32124037383184|        14|           3|\n",
      "|200016|     F|Charlotte|  Frazier|Baltimore-Columbi...|     1.0|  268|        7|     188|   201| 55.76982638888889|241.44629932038836|        19|           5|\n",
      "|100014|     M|  Rodrigo|    Carey|New York-Newark-J...|     1.0|  310|        6|     233|   248| 85.08340277777778|263.43763455252935|        17|           3|\n",
      "|100021|     M|   Rayden| Phillips|Dallas-Fort Worth...|     1.0|  319|        5|     207|   226| 64.73886574074074| 250.5790245217391|        11|           5|\n",
      "|200015|     M|   Connor|  Mendoza|San Diego-Carlsba...|     1.0|  349|       11|     233|   252|  87.6291550925926| 236.5308292635658|        10|          10|\n",
      "|   129|     M|    Davis|     Wang|           Flint, MI|     1.0|  412|        7|     279|   315|16.740567129629632|245.32106824773405|         7|           7|\n",
      "+------+------+---------+---------+--------------------+--------+-----+---------+--------+------+------------------+------------------+----------+------------+\n",
      "only showing top 20 rows\n",
      "\n"
     ]
    }
   ],
   "source": [
    "df_user_summary.where('is_churn = 1').sort('n_req').show()"
   ]
  },
  {
   "cell_type": "markdown",
   "metadata": {},
   "source": [
    "## 2.2 Explore data"
   ]
  },
  {
   "cell_type": "markdown",
   "metadata": {},
   "source": [
    "The churn ratio is ~23%"
   ]
  },
  {
   "cell_type": "code",
   "execution_count": 17,
   "metadata": {
    "ExecuteTime": {
     "end_time": "2022-04-13T10:06:45.708145Z",
     "start_time": "2022-04-13T10:06:45.365146Z"
    }
   },
   "outputs": [
    {
     "name": "stdout",
     "output_type": "stream",
     "text": [
      "+--------+-----+\n",
      "|is_churn|count|\n",
      "+--------+-----+\n",
      "|     0.0|  173|\n",
      "|     1.0|   52|\n",
      "+--------+-----+\n",
      "\n"
     ]
    }
   ],
   "source": [
    "df_user_summary.groupby('is_churn').count().show()"
   ]
  },
  {
   "cell_type": "code",
   "execution_count": 18,
   "metadata": {
    "ExecuteTime": {
     "end_time": "2022-04-13T10:06:45.784145Z",
     "start_time": "2022-04-13T10:06:45.709146Z"
    }
   },
   "outputs": [],
   "source": [
    "df_user_summary_pd = df_user_summary.toPandas()"
   ]
  },
  {
   "cell_type": "code",
   "execution_count": 19,
   "metadata": {
    "ExecuteTime": {
     "end_time": "2022-04-13T10:06:45.800145Z",
     "start_time": "2022-04-13T10:06:45.786146Z"
    }
   },
   "outputs": [
    {
     "data": {
      "text/html": [
       "<div>\n",
       "<style scoped>\n",
       "    .dataframe tbody tr th:only-of-type {\n",
       "        vertical-align: middle;\n",
       "    }\n",
       "\n",
       "    .dataframe tbody tr th {\n",
       "        vertical-align: top;\n",
       "    }\n",
       "\n",
       "    .dataframe thead th {\n",
       "        text-align: right;\n",
       "    }\n",
       "</style>\n",
       "<table border=\"1\" class=\"dataframe\">\n",
       "  <thead>\n",
       "    <tr style=\"text-align: right;\">\n",
       "      <th></th>\n",
       "      <th>userId</th>\n",
       "      <th>gender</th>\n",
       "      <th>firstName</th>\n",
       "      <th>lastName</th>\n",
       "      <th>location</th>\n",
       "      <th>is_churn</th>\n",
       "      <th>n_req</th>\n",
       "      <th>n_session</th>\n",
       "      <th>n_artist</th>\n",
       "      <th>n_song</th>\n",
       "      <th>ser_days</th>\n",
       "      <th>avg_length</th>\n",
       "      <th>n_thumb_up</th>\n",
       "      <th>n_thumb_down</th>\n",
       "    </tr>\n",
       "  </thead>\n",
       "  <tbody>\n",
       "    <tr>\n",
       "      <th>0</th>\n",
       "      <td>41</td>\n",
       "      <td>F</td>\n",
       "      <td>Brisa</td>\n",
       "      <td>Murray</td>\n",
       "      <td>Manchester-Nashua, NH</td>\n",
       "      <td>0.0</td>\n",
       "      <td>2220</td>\n",
       "      <td>12</td>\n",
       "      <td>1319</td>\n",
       "      <td>1699</td>\n",
       "      <td>110.772477</td>\n",
       "      <td>250.211240</td>\n",
       "      <td>76</td>\n",
       "      <td>10</td>\n",
       "    </tr>\n",
       "    <tr>\n",
       "      <th>1</th>\n",
       "      <td>126</td>\n",
       "      <td>M</td>\n",
       "      <td>Daelin</td>\n",
       "      <td>Turner</td>\n",
       "      <td>New York-Newark-Jersey City, NY-NJ-PA</td>\n",
       "      <td>0.0</td>\n",
       "      <td>3102</td>\n",
       "      <td>30</td>\n",
       "      <td>1643</td>\n",
       "      <td>2229</td>\n",
       "      <td>62.095694</td>\n",
       "      <td>251.780989</td>\n",
       "      <td>135</td>\n",
       "      <td>21</td>\n",
       "    </tr>\n",
       "    <tr>\n",
       "      <th>2</th>\n",
       "      <td>300005</td>\n",
       "      <td>F</td>\n",
       "      <td>Gabriella</td>\n",
       "      <td>Robinson</td>\n",
       "      <td>Roanoke, VA</td>\n",
       "      <td>0.0</td>\n",
       "      <td>394</td>\n",
       "      <td>6</td>\n",
       "      <td>288</td>\n",
       "      <td>305</td>\n",
       "      <td>157.055463</td>\n",
       "      <td>246.873267</td>\n",
       "      <td>35</td>\n",
       "      <td>4</td>\n",
       "    </tr>\n",
       "    <tr>\n",
       "      <th>3</th>\n",
       "      <td>128</td>\n",
       "      <td>M</td>\n",
       "      <td>Caleb</td>\n",
       "      <td>Pena</td>\n",
       "      <td>Fairbanks, AK</td>\n",
       "      <td>0.0</td>\n",
       "      <td>2067</td>\n",
       "      <td>17</td>\n",
       "      <td>1163</td>\n",
       "      <td>1539</td>\n",
       "      <td>95.331690</td>\n",
       "      <td>248.522736</td>\n",
       "      <td>87</td>\n",
       "      <td>18</td>\n",
       "    </tr>\n",
       "    <tr>\n",
       "      <th>4</th>\n",
       "      <td>300009</td>\n",
       "      <td>F</td>\n",
       "      <td>Lauren</td>\n",
       "      <td>Boone</td>\n",
       "      <td>St. Louis, MO-IL</td>\n",
       "      <td>0.0</td>\n",
       "      <td>1721</td>\n",
       "      <td>18</td>\n",
       "      <td>1025</td>\n",
       "      <td>1302</td>\n",
       "      <td>101.224109</td>\n",
       "      <td>250.550590</td>\n",
       "      <td>132</td>\n",
       "      <td>15</td>\n",
       "    </tr>\n",
       "  </tbody>\n",
       "</table>\n",
       "</div>"
      ],
      "text/plain": [
       "   userId gender  firstName  lastName                               location  \\\n",
       "0      41      F      Brisa    Murray                  Manchester-Nashua, NH   \n",
       "1     126      M     Daelin    Turner  New York-Newark-Jersey City, NY-NJ-PA   \n",
       "2  300005      F  Gabriella  Robinson                            Roanoke, VA   \n",
       "3     128      M      Caleb      Pena                          Fairbanks, AK   \n",
       "4  300009      F     Lauren     Boone                       St. Louis, MO-IL   \n",
       "\n",
       "   is_churn  n_req  n_session  n_artist  n_song    ser_days  avg_length  \\\n",
       "0       0.0   2220         12      1319    1699  110.772477  250.211240   \n",
       "1       0.0   3102         30      1643    2229   62.095694  251.780989   \n",
       "2       0.0    394          6       288     305  157.055463  246.873267   \n",
       "3       0.0   2067         17      1163    1539   95.331690  248.522736   \n",
       "4       0.0   1721         18      1025    1302  101.224109  250.550590   \n",
       "\n",
       "   n_thumb_up  n_thumb_down  \n",
       "0          76            10  \n",
       "1         135            21  \n",
       "2          35             4  \n",
       "3          87            18  \n",
       "4         132            15  "
      ]
     },
     "execution_count": 19,
     "metadata": {},
     "output_type": "execute_result"
    }
   ],
   "source": [
    "df_user_summary_pd.head()"
   ]
  },
  {
   "cell_type": "markdown",
   "metadata": {},
   "source": [
    "Let's do bivariate analysis for candidate features with churned label. The features is divided into two types:\n",
    "  - Numerical features\n",
    "    - n_req\n",
    "    - n_session\n",
    "    - n_artist\n",
    "    - n_song\n",
    "    - ser_days\n",
    "    - avg_length\n",
    "    - n_thumb_up\n",
    "    - n_thumb_down\n",
    "  - Categorical features\n",
    "    - gender"
   ]
  },
  {
   "cell_type": "markdown",
   "metadata": {},
   "source": [
    "### 2.2.1 Numerical features"
   ]
  },
  {
   "cell_type": "code",
   "execution_count": 20,
   "metadata": {
    "ExecuteTime": {
     "end_time": "2022-04-13T10:06:48.135030Z",
     "start_time": "2022-04-13T10:06:45.801146Z"
    },
    "scrolled": false
   },
   "outputs": [
    {
     "data": {
      "text/html": [
       "<h3>n_req</h3>"
      ],
      "text/plain": [
       "<IPython.core.display.HTML object>"
      ]
     },
     "metadata": {},
     "output_type": "display_data"
    },
    {
     "data": {
      "text/html": [
       "<table border=\"1\" class=\"dataframe\">\n",
       "  <thead>\n",
       "    <tr style=\"text-align: right;\">\n",
       "      <th></th>\n",
       "      <th>n_req_churn</th>\n",
       "      <th>n_req_not_churn</th>\n",
       "    </tr>\n",
       "  </thead>\n",
       "  <tbody>\n",
       "    <tr>\n",
       "      <th>count</th>\n",
       "      <td>52.000000</td>\n",
       "      <td>173.000000</td>\n",
       "    </tr>\n",
       "    <tr>\n",
       "      <th>mean</th>\n",
       "      <td>862.769231</td>\n",
       "      <td>1348.497110</td>\n",
       "    </tr>\n",
       "    <tr>\n",
       "      <th>std</th>\n",
       "      <td>852.262378</td>\n",
       "      <td>1425.428637</td>\n",
       "    </tr>\n",
       "    <tr>\n",
       "      <th>min</th>\n",
       "      <td>11.000000</td>\n",
       "      <td>6.000000</td>\n",
       "    </tr>\n",
       "    <tr>\n",
       "      <th>25%</th>\n",
       "      <td>208.750000</td>\n",
       "      <td>321.000000</td>\n",
       "    </tr>\n",
       "    <tr>\n",
       "      <th>50%</th>\n",
       "      <td>576.000000</td>\n",
       "      <td>940.000000</td>\n",
       "    </tr>\n",
       "    <tr>\n",
       "      <th>75%</th>\n",
       "      <td>1154.000000</td>\n",
       "      <td>2005.000000</td>\n",
       "    </tr>\n",
       "    <tr>\n",
       "      <th>max</th>\n",
       "      <td>3603.000000</td>\n",
       "      <td>9632.000000</td>\n",
       "    </tr>\n",
       "  </tbody>\n",
       "</table>"
      ],
      "text/plain": [
       "<IPython.core.display.HTML object>"
      ]
     },
     "metadata": {},
     "output_type": "display_data"
    },
    {
     "name": "stdout",
     "output_type": "stream",
     "text": [
      "t_stat = -2.3328782065735796, p_value = 0.01965453850154996\n"
     ]
    },
    {
     "data": {
      "image/png": "[encoded data removed]",
      "text/plain": [
       "<Figure size 1440x360 with 2 Axes>"
      ]
     },
     "metadata": {
      "needs_background": "light"
     },
     "output_type": "display_data"
    },
    {
     "data": {
      "text/html": [
       "<h3>n_session</h3>"
      ],
      "text/plain": [
       "<IPython.core.display.HTML object>"
      ]
     },
     "metadata": {},
     "output_type": "display_data"
    },
    {
     "data": {
      "text/html": [
       "<table border=\"1\" class=\"dataframe\">\n",
       "  <thead>\n",
       "    <tr style=\"text-align: right;\">\n",
       "      <th></th>\n",
       "      <th>n_session_churn</th>\n",
       "      <th>n_session_not_churn</th>\n",
       "    </tr>\n",
       "  </thead>\n",
       "  <tbody>\n",
       "    <tr>\n",
       "      <th>count</th>\n",
       "      <td>52.000000</td>\n",
       "      <td>173.000000</td>\n",
       "    </tr>\n",
       "    <tr>\n",
       "      <th>mean</th>\n",
       "      <td>10.326923</td>\n",
       "      <td>15.254335</td>\n",
       "    </tr>\n",
       "    <tr>\n",
       "      <th>std</th>\n",
       "      <td>8.610803</td>\n",
       "      <td>15.866963</td>\n",
       "    </tr>\n",
       "    <tr>\n",
       "      <th>min</th>\n",
       "      <td>1.000000</td>\n",
       "      <td>1.000000</td>\n",
       "    </tr>\n",
       "    <tr>\n",
       "      <th>25%</th>\n",
       "      <td>5.000000</td>\n",
       "      <td>6.000000</td>\n",
       "    </tr>\n",
       "    <tr>\n",
       "      <th>50%</th>\n",
       "      <td>8.500000</td>\n",
       "      <td>11.000000</td>\n",
       "    </tr>\n",
       "    <tr>\n",
       "      <th>75%</th>\n",
       "      <td>12.000000</td>\n",
       "      <td>19.000000</td>\n",
       "    </tr>\n",
       "    <tr>\n",
       "      <th>max</th>\n",
       "      <td>37.000000</td>\n",
       "      <td>107.000000</td>\n",
       "    </tr>\n",
       "  </tbody>\n",
       "</table>"
      ],
      "text/plain": [
       "<IPython.core.display.HTML object>"
      ]
     },
     "metadata": {},
     "output_type": "display_data"
    },
    {
     "name": "stdout",
     "output_type": "stream",
     "text": [
      "t_stat = -2.1442082031269027, p_value = 0.03201620809858628\n"
     ]
    },
    {
     "data": {
      "image/png": "[encoded data removed]",
      "text/plain": [
       "<Figure size 1440x360 with 2 Axes>"
      ]
     },
     "metadata": {
      "needs_background": "light"
     },
     "output_type": "display_data"
    },
    {
     "data": {
      "text/html": [
       "<h3>n_artist</h3>"
      ],
      "text/plain": [
       "<IPython.core.display.HTML object>"
      ]
     },
     "metadata": {},
     "output_type": "display_data"
    },
    {
     "data": {
      "text/html": [
       "<table border=\"1\" class=\"dataframe\">\n",
       "  <thead>\n",
       "    <tr style=\"text-align: right;\">\n",
       "      <th></th>\n",
       "      <th>n_artist_churn</th>\n",
       "      <th>n_artist_not_churn</th>\n",
       "    </tr>\n",
       "  </thead>\n",
       "  <tbody>\n",
       "    <tr>\n",
       "      <th>count</th>\n",
       "      <td>52.000000</td>\n",
       "      <td>173.000000</td>\n",
       "    </tr>\n",
       "    <tr>\n",
       "      <th>mean</th>\n",
       "      <td>518.692308</td>\n",
       "      <td>749.786127</td>\n",
       "    </tr>\n",
       "    <tr>\n",
       "      <th>std</th>\n",
       "      <td>455.914317</td>\n",
       "      <td>633.235440</td>\n",
       "    </tr>\n",
       "    <tr>\n",
       "      <th>min</th>\n",
       "      <td>8.000000</td>\n",
       "      <td>3.000000</td>\n",
       "    </tr>\n",
       "    <tr>\n",
       "      <th>25%</th>\n",
       "      <td>143.000000</td>\n",
       "      <td>226.000000</td>\n",
       "    </tr>\n",
       "    <tr>\n",
       "      <th>50%</th>\n",
       "      <td>385.500000</td>\n",
       "      <td>587.000000</td>\n",
       "    </tr>\n",
       "    <tr>\n",
       "      <th>75%</th>\n",
       "      <td>762.250000</td>\n",
       "      <td>1137.000000</td>\n",
       "    </tr>\n",
       "    <tr>\n",
       "      <th>max</th>\n",
       "      <td>1804.000000</td>\n",
       "      <td>3544.000000</td>\n",
       "    </tr>\n",
       "  </tbody>\n",
       "</table>"
      ],
      "text/plain": [
       "<IPython.core.display.HTML object>"
      ]
     },
     "metadata": {},
     "output_type": "display_data"
    },
    {
     "name": "stdout",
     "output_type": "stream",
     "text": [
      "t_stat = -2.4462344850122135, p_value = 0.014435708075618723\n"
     ]
    },
    {
     "data": {
      "image/png": "[encoded data removed]",
      "text/plain": [
       "<Figure size 1440x360 with 2 Axes>"
      ]
     },
     "metadata": {
      "needs_background": "light"
     },
     "output_type": "display_data"
    },
    {
     "data": {
      "text/html": [
       "<h3>n_song</h3>"
      ],
      "text/plain": [
       "<IPython.core.display.HTML object>"
      ]
     },
     "metadata": {},
     "output_type": "display_data"
    },
    {
     "data": {
      "text/html": [
       "<table border=\"1\" class=\"dataframe\">\n",
       "  <thead>\n",
       "    <tr style=\"text-align: right;\">\n",
       "      <th></th>\n",
       "      <th>n_song_churn</th>\n",
       "      <th>n_song_not_churn</th>\n",
       "    </tr>\n",
       "  </thead>\n",
       "  <tbody>\n",
       "    <tr>\n",
       "      <th>count</th>\n",
       "      <td>52.000000</td>\n",
       "      <td>173.000000</td>\n",
       "    </tr>\n",
       "    <tr>\n",
       "      <th>mean</th>\n",
       "      <td>638.365385</td>\n",
       "      <td>975.768786</td>\n",
       "    </tr>\n",
       "    <tr>\n",
       "      <th>std</th>\n",
       "      <td>619.598669</td>\n",
       "      <td>951.912881</td>\n",
       "    </tr>\n",
       "    <tr>\n",
       "      <th>min</th>\n",
       "      <td>8.000000</td>\n",
       "      <td>3.000000</td>\n",
       "    </tr>\n",
       "    <tr>\n",
       "      <th>25%</th>\n",
       "      <td>147.000000</td>\n",
       "      <td>239.000000</td>\n",
       "    </tr>\n",
       "    <tr>\n",
       "      <th>50%</th>\n",
       "      <td>432.500000</td>\n",
       "      <td>696.000000</td>\n",
       "    </tr>\n",
       "    <tr>\n",
       "      <th>75%</th>\n",
       "      <td>901.500000</td>\n",
       "      <td>1477.000000</td>\n",
       "    </tr>\n",
       "    <tr>\n",
       "      <th>max</th>\n",
       "      <td>2562.000000</td>\n",
       "      <td>5946.000000</td>\n",
       "    </tr>\n",
       "  </tbody>\n",
       "</table>"
      ],
      "text/plain": [
       "<IPython.core.display.HTML object>"
      ]
     },
     "metadata": {},
     "output_type": "display_data"
    },
    {
     "name": "stdout",
     "output_type": "stream",
     "text": [
      "t_stat = -2.405345661505821, p_value = 0.016157175150150117\n"
     ]
    },
    {
     "data": {
      "image/png": "[encoded data removed]",
      "text/plain": [
       "<Figure size 1440x360 with 2 Axes>"
      ]
     },
     "metadata": {
      "needs_background": "light"
     },
     "output_type": "display_data"
    },
    {
     "data": {
      "text/html": [
       "<h3>ser_days</h3>"
      ],
      "text/plain": [
       "<IPython.core.display.HTML object>"
      ]
     },
     "metadata": {},
     "output_type": "display_data"
    },
    {
     "data": {
      "text/html": [
       "<table border=\"1\" class=\"dataframe\">\n",
       "  <thead>\n",
       "    <tr style=\"text-align: right;\">\n",
       "      <th></th>\n",
       "      <th>ser_days_churn</th>\n",
       "      <th>ser_days_not_churn</th>\n",
       "    </tr>\n",
       "  </thead>\n",
       "  <tbody>\n",
       "    <tr>\n",
       "      <th>count</th>\n",
       "      <td>52.000000</td>\n",
       "      <td>173.000000</td>\n",
       "    </tr>\n",
       "    <tr>\n",
       "      <th>mean</th>\n",
       "      <td>57.305993</td>\n",
       "      <td>86.620619</td>\n",
       "    </tr>\n",
       "    <tr>\n",
       "      <th>std</th>\n",
       "      <td>36.633148</td>\n",
       "      <td>35.348642</td>\n",
       "    </tr>\n",
       "    <tr>\n",
       "      <th>min</th>\n",
       "      <td>5.165116</td>\n",
       "      <td>0.313727</td>\n",
       "    </tr>\n",
       "    <tr>\n",
       "      <th>25%</th>\n",
       "      <td>30.801238</td>\n",
       "      <td>65.165150</td>\n",
       "    </tr>\n",
       "    <tr>\n",
       "      <th>50%</th>\n",
       "      <td>51.289392</td>\n",
       "      <td>75.463391</td>\n",
       "    </tr>\n",
       "    <tr>\n",
       "      <th>75%</th>\n",
       "      <td>73.751444</td>\n",
       "      <td>102.761921</td>\n",
       "    </tr>\n",
       "    <tr>\n",
       "      <th>max</th>\n",
       "      <td>188.311782</td>\n",
       "      <td>256.377674</td>\n",
       "    </tr>\n",
       "  </tbody>\n",
       "</table>"
      ],
      "text/plain": [
       "<IPython.core.display.HTML object>"
      ]
     },
     "metadata": {},
     "output_type": "display_data"
    },
    {
     "name": "stdout",
     "output_type": "stream",
     "text": [
      "t_stat = -5.199972526794912, p_value = 1.993179854075876e-07\n"
     ]
    },
    {
     "data": {
      "image/png": "[encoded data removed]",
      "text/plain": [
       "<Figure size 1440x360 with 2 Axes>"
      ]
     },
     "metadata": {
      "needs_background": "light"
     },
     "output_type": "display_data"
    },
    {
     "data": {
      "text/html": [
       "<h3>avg_length</h3>"
      ],
      "text/plain": [
       "<IPython.core.display.HTML object>"
      ]
     },
     "metadata": {},
     "output_type": "display_data"
    },
    {
     "data": {
      "text/html": [
       "<table border=\"1\" class=\"dataframe\">\n",
       "  <thead>\n",
       "    <tr style=\"text-align: right;\">\n",
       "      <th></th>\n",
       "      <th>avg_length_churn</th>\n",
       "      <th>avg_length_not_churn</th>\n",
       "    </tr>\n",
       "  </thead>\n",
       "  <tbody>\n",
       "    <tr>\n",
       "      <th>count</th>\n",
       "      <td>52.000000</td>\n",
       "      <td>173.000000</td>\n",
       "    </tr>\n",
       "    <tr>\n",
       "      <th>mean</th>\n",
       "      <td>248.307865</td>\n",
       "      <td>249.141254</td>\n",
       "    </tr>\n",
       "    <tr>\n",
       "      <th>std</th>\n",
       "      <td>7.703952</td>\n",
       "      <td>5.312185</td>\n",
       "    </tr>\n",
       "    <tr>\n",
       "      <th>min</th>\n",
       "      <td>225.188117</td>\n",
       "      <td>230.556280</td>\n",
       "    </tr>\n",
       "    <tr>\n",
       "      <th>25%</th>\n",
       "      <td>245.261818</td>\n",
       "      <td>246.803473</td>\n",
       "    </tr>\n",
       "    <tr>\n",
       "      <th>50%</th>\n",
       "      <td>248.280670</td>\n",
       "      <td>249.168126</td>\n",
       "    </tr>\n",
       "    <tr>\n",
       "      <th>75%</th>\n",
       "      <td>251.645085</td>\n",
       "      <td>251.242991</td>\n",
       "    </tr>\n",
       "    <tr>\n",
       "      <th>max</th>\n",
       "      <td>267.767142</td>\n",
       "      <td>267.271383</td>\n",
       "    </tr>\n",
       "  </tbody>\n",
       "</table>"
      ],
      "text/plain": [
       "<IPython.core.display.HTML object>"
      ]
     },
     "metadata": {},
     "output_type": "display_data"
    },
    {
     "name": "stdout",
     "output_type": "stream",
     "text": [
      "t_stat = -0.8864481773717247, p_value = 0.3753760678512853\n"
     ]
    },
    {
     "data": {
      "image/png": "[encoded data removed]",
      "text/plain": [
       "<Figure size 1440x360 with 2 Axes>"
      ]
     },
     "metadata": {
      "needs_background": "light"
     },
     "output_type": "display_data"
    },
    {
     "data": {
      "text/html": [
       "<h3>n_thumb_up</h3>"
      ],
      "text/plain": [
       "<IPython.core.display.HTML object>"
      ]
     },
     "metadata": {},
     "output_type": "display_data"
    },
    {
     "data": {
      "text/html": [
       "<table border=\"1\" class=\"dataframe\">\n",
       "  <thead>\n",
       "    <tr style=\"text-align: right;\">\n",
       "      <th></th>\n",
       "      <th>n_thumb_up_churn</th>\n",
       "      <th>n_thumb_up_not_churn</th>\n",
       "    </tr>\n",
       "  </thead>\n",
       "  <tbody>\n",
       "    <tr>\n",
       "      <th>count</th>\n",
       "      <td>52.000000</td>\n",
       "      <td>173.000000</td>\n",
       "    </tr>\n",
       "    <tr>\n",
       "      <th>mean</th>\n",
       "      <td>35.750000</td>\n",
       "      <td>61.803468</td>\n",
       "    </tr>\n",
       "    <tr>\n",
       "      <th>std</th>\n",
       "      <td>39.697817</td>\n",
       "      <td>70.416424</td>\n",
       "    </tr>\n",
       "    <tr>\n",
       "      <th>min</th>\n",
       "      <td>0.000000</td>\n",
       "      <td>0.000000</td>\n",
       "    </tr>\n",
       "    <tr>\n",
       "      <th>25%</th>\n",
       "      <td>9.500000</td>\n",
       "      <td>14.000000</td>\n",
       "    </tr>\n",
       "    <tr>\n",
       "      <th>50%</th>\n",
       "      <td>19.500000</td>\n",
       "      <td>41.000000</td>\n",
       "    </tr>\n",
       "    <tr>\n",
       "      <th>75%</th>\n",
       "      <td>45.000000</td>\n",
       "      <td>84.000000</td>\n",
       "    </tr>\n",
       "    <tr>\n",
       "      <th>max</th>\n",
       "      <td>163.000000</td>\n",
       "      <td>437.000000</td>\n",
       "    </tr>\n",
       "  </tbody>\n",
       "</table>"
      ],
      "text/plain": [
       "<IPython.core.display.HTML object>"
      ]
     },
     "metadata": {},
     "output_type": "display_data"
    },
    {
     "name": "stdout",
     "output_type": "stream",
     "text": [
      "t_stat = -2.5465799259653137, p_value = 0.010878429674667203\n"
     ]
    },
    {
     "data": {
      "image/png": "[encoded data removed]",
      "text/plain": [
       "<Figure size 1440x360 with 2 Axes>"
      ]
     },
     "metadata": {
      "needs_background": "light"
     },
     "output_type": "display_data"
    },
    {
     "data": {
      "text/html": [
       "<h3>n_thumb_down</h3>"
      ],
      "text/plain": [
       "<IPython.core.display.HTML object>"
      ]
     },
     "metadata": {},
     "output_type": "display_data"
    },
    {
     "data": {
      "text/html": [
       "<table border=\"1\" class=\"dataframe\">\n",
       "  <thead>\n",
       "    <tr style=\"text-align: right;\">\n",
       "      <th></th>\n",
       "      <th>n_thumb_down_churn</th>\n",
       "      <th>n_thumb_down_not_churn</th>\n",
       "    </tr>\n",
       "  </thead>\n",
       "  <tbody>\n",
       "    <tr>\n",
       "      <th>count</th>\n",
       "      <td>52.000000</td>\n",
       "      <td>173.000000</td>\n",
       "    </tr>\n",
       "    <tr>\n",
       "      <th>mean</th>\n",
       "      <td>9.538462</td>\n",
       "      <td>11.849711</td>\n",
       "    </tr>\n",
       "    <tr>\n",
       "      <th>std</th>\n",
       "      <td>9.088803</td>\n",
       "      <td>14.035274</td>\n",
       "    </tr>\n",
       "    <tr>\n",
       "      <th>min</th>\n",
       "      <td>0.000000</td>\n",
       "      <td>0.000000</td>\n",
       "    </tr>\n",
       "    <tr>\n",
       "      <th>25%</th>\n",
       "      <td>2.000000</td>\n",
       "      <td>2.000000</td>\n",
       "    </tr>\n",
       "    <tr>\n",
       "      <th>50%</th>\n",
       "      <td>7.000000</td>\n",
       "      <td>8.000000</td>\n",
       "    </tr>\n",
       "    <tr>\n",
       "      <th>75%</th>\n",
       "      <td>15.250000</td>\n",
       "      <td>17.000000</td>\n",
       "    </tr>\n",
       "    <tr>\n",
       "      <th>max</th>\n",
       "      <td>36.000000</td>\n",
       "      <td>75.000000</td>\n",
       "    </tr>\n",
       "  </tbody>\n",
       "</table>"
      ],
      "text/plain": [
       "<IPython.core.display.HTML object>"
      ]
     },
     "metadata": {},
     "output_type": "display_data"
    },
    {
     "name": "stdout",
     "output_type": "stream",
     "text": [
      "t_stat = -1.118146317722026, p_value = 0.2635045071940475\n"
     ]
    },
    {
     "data": {
      "image/png": "[encoded data removed]",
      "text/plain": [
       "<Figure size 1440x360 with 2 Axes>"
      ]
     },
     "metadata": {
      "needs_background": "light"
     },
     "output_type": "display_data"
    }
   ],
   "source": [
    "numerical_features = [\n",
    "    'n_req', 'n_session', 'n_artist', 'n_song', 'ser_days', 'avg_length', 'n_thumb_up', 'n_thumb_down'\n",
    "]\n",
    "df_churn = df_user_summary_pd[df_user_summary_pd.is_churn==1]\n",
    "df_nchurn = df_user_summary_pd[df_user_summary_pd.is_churn==0]\n",
    "for c in numerical_features:\n",
    "    display(HTML(f'<h3>{c}</h3>'))\n",
    "    df_feature_stat = pd.concat([df_churn[c].describe(), df_nchurn[c].describe()], axis=1)\n",
    "    df_feature_stat.columns = [f'{c}_churn', f'{c}_not_churn']\n",
    "    display(HTML(df_feature_stat.to_html()))\n",
    "    t_stat, p_value = ztest(df_churn[c], df_nchurn[c], 0, alternative='two-sided')\n",
    "    print(f't_stat = {t_stat}, p_value = {p_value}')\n",
    "    fig, axes = plt.subplots(1,2,figsize=(20, 5))\n",
    "    ax_hist = axes[0]\n",
    "    ax_box = axes[1]\n",
    "    ax_hist.set_title(c)\n",
    "    bins = np.linspace(0, df_user_summary_pd[c].max(), 30)\n",
    "    ax_hist.hist(df_nchurn[c], bins=bins, label='not_churn', alpha=0.5)\n",
    "    ax_hist.hist(df_churn[c], bins=bins, label='churn', alpha=0.5)            \n",
    "    ax_box.boxplot([df_churn[c], df_nchurn[c]], labels=['churn', 'not_churn'], vert=False)\n",
    "    ax_hist.legend()\n",
    "    for ax in axes:        \n",
    "        ax.grid()\n",
    "    plt.show()\n",
    "    plt.close()"
   ]
  },
  {
   "cell_type": "markdown",
   "metadata": {},
   "source": [
    "As can be seen from graphs above\n",
    "  - Churned users and Stayed users have signification difference in (confidence level 95%): ser_days, n_req, n_session, n_artist, n_song, n_thumb_up\n",
    "  - The first 2 months is the time that churn ratio is high.\n",
    "  - thumb_down and avg_length seems have no really difference between Churned users and Stayed users"
   ]
  },
  {
   "cell_type": "markdown",
   "metadata": {},
   "source": [
    "## 2.2.2 Categorical features"
   ]
  },
  {
   "cell_type": "code",
   "execution_count": 21,
   "metadata": {
    "ExecuteTime": {
     "end_time": "2022-04-13T10:06:48.260269Z",
     "start_time": "2022-04-13T10:06:48.137032Z"
    }
   },
   "outputs": [
    {
     "data": {
      "text/html": [
       "<h3>gender</h3>"
      ],
      "text/plain": [
       "<IPython.core.display.HTML object>"
      ]
     },
     "metadata": {},
     "output_type": "display_data"
    },
    {
     "data": {
      "text/html": [
       "<table border=\"1\" class=\"dataframe\">\n",
       "  <thead>\n",
       "    <tr style=\"text-align: right;\">\n",
       "      <th></th>\n",
       "      <th>gender</th>\n",
       "      <th>is_churn</th>\n",
       "      <th>cnt</th>\n",
       "    </tr>\n",
       "  </thead>\n",
       "  <tbody>\n",
       "    <tr>\n",
       "      <th>0</th>\n",
       "      <td>F</td>\n",
       "      <td>0.0</td>\n",
       "      <td>84</td>\n",
       "    </tr>\n",
       "    <tr>\n",
       "      <th>1</th>\n",
       "      <td>F</td>\n",
       "      <td>1.0</td>\n",
       "      <td>20</td>\n",
       "    </tr>\n",
       "    <tr>\n",
       "      <th>2</th>\n",
       "      <td>M</td>\n",
       "      <td>0.0</td>\n",
       "      <td>89</td>\n",
       "    </tr>\n",
       "    <tr>\n",
       "      <th>3</th>\n",
       "      <td>M</td>\n",
       "      <td>1.0</td>\n",
       "      <td>32</td>\n",
       "    </tr>\n",
       "  </tbody>\n",
       "</table>"
      ],
      "text/plain": [
       "<IPython.core.display.HTML object>"
      ]
     },
     "metadata": {},
     "output_type": "display_data"
    },
    {
     "data": {
      "image/png": "[encoded data removed]",
      "text/plain": [
       "<Figure size 720x360 with 3 Axes>"
      ]
     },
     "metadata": {
      "needs_background": "light"
     },
     "output_type": "display_data"
    }
   ],
   "source": [
    "categorical_features = ['gender']\n",
    "for c in categorical_features:\n",
    "    display(HTML(f'<h3>{c}</h3>'))\n",
    "    display(HTML(df_user_summary_pd.groupby([c, 'is_churn']).size().reset_index(name='cnt').to_html()))\n",
    "    fig, ax = plt.subplots(figsize=(10, 5))    \n",
    "    mosaic(df_user_summary_pd, [c, 'is_churn'], ax=ax)\n",
    "    plt.show()\n",
    "    plt.close()"
   ]
  },
  {
   "cell_type": "markdown",
   "metadata": {},
   "source": [
    "# 3. Feature Engineering\n",
    "Once you've familiarized yourself with the data, build out the features you find promising to train your model on. To work with the full dataset, you can follow the following steps.\n",
    "- Write a script to extract the necessary features from the smaller subset of data\n",
    "- Ensure that your script is scalable, using the best practices discussed in Lesson 3\n",
    "- Try your script on the full data set, debugging your script if necessary\n",
    "\n",
    "If you are working in the classroom workspace, you can just extract features based on the small subset of data contained here. Be sure to transfer over this work to the larger dataset when you work on your Spark cluster."
   ]
  },
  {
   "cell_type": "code",
   "execution_count": 22,
   "metadata": {
    "ExecuteTime": {
     "end_time": "2022-04-13T10:06:48.577266Z",
     "start_time": "2022-04-13T10:06:48.262264Z"
    }
   },
   "outputs": [
    {
     "name": "stdout",
     "output_type": "stream",
     "text": [
      "Number of null value on each features\n",
      "+------+------+---------+--------+--------+--------+-----+---------+--------+------+--------+----------+----------+------------+\n",
      "|userId|gender|firstName|lastName|location|is_churn|n_req|n_session|n_artist|n_song|ser_days|avg_length|n_thumb_up|n_thumb_down|\n",
      "+------+------+---------+--------+--------+--------+-----+---------+--------+------+--------+----------+----------+------------+\n",
      "|     0|     0|        0|       0|       0|       0|    0|        0|       0|     0|       0|         0|         0|           0|\n",
      "+------+------+---------+--------+--------+--------+-----+---------+--------+------+--------+----------+----------+------------+\n",
      "\n"
     ]
    }
   ],
   "source": [
    "print('Number of null value on each features')\n",
    "df_user_summary.select(\n",
    "    [F.count(F.when(F.col(c).isNull() | F.col(c).eqNullSafe(''), 1)).alias(c) for c in df_user_summary.columns]\n",
    ").show()"
   ]
  },
  {
   "cell_type": "markdown",
   "metadata": {},
   "source": [
    "- The training data has no empty value so it is not necessary to handle null data\n",
    "- The Feature Processing is done as below\n",
    "  - One-hot Encode categorical features\n",
    "  - Standard Scale numerical features\n",
    "  - Assemble them into a vector to ready to train"
   ]
  },
  {
   "cell_type": "code",
   "execution_count": 23,
   "metadata": {
    "ExecuteTime": {
     "end_time": "2022-04-13T10:06:48.640264Z",
     "start_time": "2022-04-13T10:06:48.578264Z"
    }
   },
   "outputs": [],
   "source": [
    "from pyspark.ml import Pipeline\n",
    "from pyspark.ml.feature import VectorAssembler, StringIndexer, StandardScaler, OneHotEncoder\n",
    "\n",
    "\n",
    "numerical_features = [\n",
    "    'n_req', 'n_session', 'n_artist', 'n_song', 'ser_days', 'avg_length', 'n_thumb_up', 'n_thumb_down'\n",
    "]\n",
    "category_features = ['gender']\n",
    "category_features_idx = [f'{x}_idx' for x in category_features]\n",
    "category_features_idx_ohe = [f'{x}_ohe' for x in category_features_idx]\n",
    "\n",
    "\n",
    "pipeline = Pipeline(stages=[\n",
    "    StringIndexer(inputCols=category_features, outputCols=category_features_idx),\n",
    "    OneHotEncoder(inputCols=category_features_idx, outputCols=category_features_idx_ohe, handleInvalid='keep'),\n",
    "    VectorAssembler(inputCols=numerical_features, outputCol='raw_vec'),\n",
    "    StandardScaler(inputCol='raw_vec', outputCol='scaled_vec'),\n",
    "    VectorAssembler(inputCols=['scaled_vec'] + category_features_idx_ohe, outputCol='features')    \n",
    "])"
   ]
  },
  {
   "cell_type": "code",
   "execution_count": 24,
   "metadata": {
    "ExecuteTime": {
     "end_time": "2022-04-13T10:06:49.870265Z",
     "start_time": "2022-04-13T10:06:48.641264Z"
    }
   },
   "outputs": [],
   "source": [
    "pipeline_model = pipeline.fit(df_user_summary)\n",
    "df_features = pipeline_model.transform(df_user_summary)"
   ]
  },
  {
   "cell_type": "code",
   "execution_count": 25,
   "metadata": {
    "ExecuteTime": {
     "end_time": "2022-04-13T10:06:50.091798Z",
     "start_time": "2022-04-13T10:06:49.872269Z"
    }
   },
   "outputs": [
    {
     "name": "stdout",
     "output_type": "stream",
     "text": [
      "+------+------+---------+--------+--------------------+--------+-----+---------+--------+------+------------------+-----------------+----------+------------+----------+--------------+--------------------+--------------------+--------------------+\n",
      "|userId|gender|firstName|lastName|            location|is_churn|n_req|n_session|n_artist|n_song|          ser_days|       avg_length|n_thumb_up|n_thumb_down|gender_idx|gender_idx_ohe|             raw_vec|          scaled_vec|            features|\n",
      "+------+------+---------+--------+--------------------+--------+-----+---------+--------+------+------------------+-----------------+----------+------------+----------+--------------+--------------------+--------------------+--------------------+\n",
      "|    41|     F|    Brisa|  Murray|Manchester-Nashua...|     0.0| 2220|       12|    1319|  1699|110.77247685185185|250.2112403062302|        76|          10|       1.0| (2,[1],[1.0])|[2220.0,12.0,1319...|[1.66976084328160...|[1.66976084328160...|\n",
      "+------+------+---------+--------+--------------------+--------+-----+---------+--------+------+------------------+-----------------+----------+------------+----------+--------------+--------------------+--------------------+--------------------+\n",
      "only showing top 1 row\n",
      "\n"
     ]
    }
   ],
   "source": [
    "df_features.show(1)"
   ]
  },
  {
   "cell_type": "code",
   "execution_count": 26,
   "metadata": {
    "ExecuteTime": {
     "end_time": "2022-04-13T10:06:50.200820Z",
     "start_time": "2022-04-13T10:06:50.093800Z"
    }
   },
   "outputs": [
    {
     "data": {
      "text/plain": [
       "DataFrame[userId: string, gender: string, firstName: string, lastName: string, location: string, is_churn: double, n_req: bigint, n_session: bigint, n_artist: bigint, n_song: bigint, ser_days: double, avg_length: double, n_thumb_up: bigint, n_thumb_down: bigint, gender_idx: double, gender_idx_ohe: vector, raw_vec: vector, scaled_vec: vector, features: vector]"
      ]
     },
     "execution_count": 26,
     "metadata": {},
     "output_type": "execute_result"
    }
   ],
   "source": [
    "test_ratio = 0.3\n",
    "train_data, test_data = df_features.randomSplit([1-test_ratio, test_ratio], seed=0)\n",
    "train_data.cache()\n",
    "test_data.cache()"
   ]
  },
  {
   "cell_type": "code",
   "execution_count": 27,
   "metadata": {
    "ExecuteTime": {
     "end_time": "2022-04-13T10:06:51.067818Z",
     "start_time": "2022-04-13T10:06:50.203822Z"
    }
   },
   "outputs": [
    {
     "name": "stdout",
     "output_type": "stream",
     "text": [
      "+--------+-----+\n",
      "|is_churn|count|\n",
      "+--------+-----+\n",
      "|     0.0|  110|\n",
      "|     1.0|   40|\n",
      "+--------+-----+\n",
      "\n"
     ]
    }
   ],
   "source": [
    "train_data.groupby('is_churn').count().show()"
   ]
  },
  {
   "cell_type": "code",
   "execution_count": 28,
   "metadata": {
    "ExecuteTime": {
     "end_time": "2022-04-13T10:06:51.629339Z",
     "start_time": "2022-04-13T10:06:51.074818Z"
    }
   },
   "outputs": [
    {
     "name": "stdout",
     "output_type": "stream",
     "text": [
      "+--------+-----+\n",
      "|is_churn|count|\n",
      "+--------+-----+\n",
      "|     0.0|   63|\n",
      "|     1.0|   12|\n",
      "+--------+-----+\n",
      "\n"
     ]
    }
   ],
   "source": [
    "test_data.groupby('is_churn').count().show()"
   ]
  },
  {
   "cell_type": "markdown",
   "metadata": {},
   "source": [
    "# 4. Modeling\n",
    "Split the full dataset into train, test, and validation sets. Test out several of the machine learning methods you learned. Evaluate the accuracy of the various models, tuning parameters as necessary. Determine your winning model based on test accuracy and report results on the validation set. Since the churned users are a fairly small subset, I suggest using F1 score as the metric to optimize."
   ]
  },
  {
   "cell_type": "markdown",
   "metadata": {},
   "source": [
    "## 4.1 Baseline with several model types"
   ]
  },
  {
   "cell_type": "markdown",
   "metadata": {},
   "source": [
    "**We could try some models to have a sense which model work well, such as**\n",
    "  - Linear Support Vector Classifier\n",
    "  - Logistric Regression\n",
    "  - Naive Bayes\n",
    "  - Gradient Boosting Tree\n",
    "  - Random Forest \n",
    "  - Multi-layer Perceptron\n"
   ]
  },
  {
   "cell_type": "markdown",
   "metadata": {},
   "source": [
    "Given\n",
    "  - TP: True Positive\n",
    "  - TN: True Negative\n",
    "  - FP: False Positive\n",
    "  - FN: False Negative\n",
    "\n",
    "**Evaluation metrics are defined as below**\n",
    "  - Accuracy = (TP + TN) / (TP + TN + FP + FN)\n",
    "  - F1 = TP / (TP + (FP+FN)/2)\n"
   ]
  },
  {
   "cell_type": "code",
   "execution_count": 29,
   "metadata": {
    "ExecuteTime": {
     "end_time": "2022-04-13T10:06:51.645338Z",
     "start_time": "2022-04-13T10:06:51.631340Z"
    }
   },
   "outputs": [],
   "source": [
    "def get_model_performance(model, train_data, test_data):\n",
    "    pred_train = model.transform(train_data)\n",
    "    pred_test = model.transform(test_data)\n",
    "    evaluator = MulticlassClassificationEvaluator(labelCol='is_churn', predictionCol='prediction')\n",
    "    acc_train = evaluator.evaluate(pred_train, {evaluator.metricName: \"accuracy\"})\n",
    "    f1_train = evaluator.evaluate(pred_train, {evaluator.metricName: \"f1\"})\n",
    "    acc_test = evaluator.evaluate(pred_test, {evaluator.metricName: \"accuracy\"})\n",
    "    f1_test = evaluator.evaluate(pred_test, {evaluator.metricName: \"f1\"})\n",
    "    return acc_train, f1_train, acc_test, f1_test"
   ]
  },
  {
   "cell_type": "code",
   "execution_count": 30,
   "metadata": {
    "ExecuteTime": {
     "end_time": "2022-04-13T10:07:41.553984Z",
     "start_time": "2022-04-13T10:06:51.647340Z"
    }
   },
   "outputs": [
    {
     "name": "stdout",
     "output_type": "stream",
     "text": [
      "LinearSVC | 0.733 0.632 | 0.840 0.767\n",
      "LogisticRegression | 0.780 0.750 | 0.827 0.796\n",
      "NaiveBayes | 0.700 0.699 | 0.693 0.732\n",
      "GBTClassifier | 1.000 1.000 | 0.787 0.787\n",
      "RandomForestClassifier | 0.900 0.893 | 0.827 0.824\n",
      "MultilayerPerceptronClassifier | 0.733 0.621 | 0.840 0.767\n"
     ]
    }
   ],
   "source": [
    "features_col = 'features'\n",
    "label_col = 'is_churn'\n",
    "input_size = len(train_data.take(1)[0].features)\n",
    "svc = LinearSVC(featuresCol=features_col, labelCol=label_col)\n",
    "lg = LogisticRegression(featuresCol=features_col, labelCol=label_col)\n",
    "nv = NaiveBayes(featuresCol=features_col, labelCol=label_col)\n",
    "gbt = GBTClassifier(featuresCol=features_col, labelCol=label_col, seed=0)\n",
    "rf = RandomForestClassifier(featuresCol=features_col, labelCol=label_col, seed=0)\n",
    "mlp = MultilayerPerceptronClassifier(featuresCol=features_col, labelCol=label_col, layers=[input_size, 10, 10, 2], seed=0)\n",
    "evaluator = MulticlassClassificationEvaluator(labelCol=label_col, predictionCol='prediction')\n",
    "result = []\n",
    "models = []\n",
    "for clf in [svc, lg, nv, gbt, rf, mlp]:    \n",
    "    class_name = clf.__class__.__name__\n",
    "    model = clf.fit(train_data)\n",
    "    acc_train, f1_train, acc_test, f1_test = get_model_performance(model, train_data, test_data)\n",
    "    result.append((class_name, acc_train, f1_train, acc_test, f1_test))\n",
    "    models.append(model)\n",
    "    print(f'{class_name} | {acc_train:.3f} {f1_train:.3f} | {acc_test:.3f} {f1_test:.3f}')    "
   ]
  },
  {
   "cell_type": "code",
   "execution_count": 31,
   "metadata": {
    "ExecuteTime": {
     "end_time": "2022-04-13T10:07:41.568996Z",
     "start_time": "2022-04-13T10:07:41.555987Z"
    }
   },
   "outputs": [
    {
     "data": {
      "text/html": [
       "<div>\n",
       "<style scoped>\n",
       "    .dataframe tbody tr th:only-of-type {\n",
       "        vertical-align: middle;\n",
       "    }\n",
       "\n",
       "    .dataframe tbody tr th {\n",
       "        vertical-align: top;\n",
       "    }\n",
       "\n",
       "    .dataframe thead th {\n",
       "        text-align: right;\n",
       "    }\n",
       "</style>\n",
       "<table border=\"1\" class=\"dataframe\">\n",
       "  <thead>\n",
       "    <tr style=\"text-align: right;\">\n",
       "      <th></th>\n",
       "      <th>clf</th>\n",
       "      <th>acc_train</th>\n",
       "      <th>f1_train</th>\n",
       "      <th>acc_test</th>\n",
       "      <th>f1_test</th>\n",
       "    </tr>\n",
       "  </thead>\n",
       "  <tbody>\n",
       "    <tr>\n",
       "      <th>4</th>\n",
       "      <td>RandomForestClassifier</td>\n",
       "      <td>0.900000</td>\n",
       "      <td>0.893088</td>\n",
       "      <td>0.826667</td>\n",
       "      <td>0.823581</td>\n",
       "    </tr>\n",
       "    <tr>\n",
       "      <th>1</th>\n",
       "      <td>LogisticRegression</td>\n",
       "      <td>0.780000</td>\n",
       "      <td>0.750433</td>\n",
       "      <td>0.826667</td>\n",
       "      <td>0.795542</td>\n",
       "    </tr>\n",
       "    <tr>\n",
       "      <th>3</th>\n",
       "      <td>GBTClassifier</td>\n",
       "      <td>1.000000</td>\n",
       "      <td>1.000000</td>\n",
       "      <td>0.786667</td>\n",
       "      <td>0.786667</td>\n",
       "    </tr>\n",
       "    <tr>\n",
       "      <th>0</th>\n",
       "      <td>LinearSVC</td>\n",
       "      <td>0.733333</td>\n",
       "      <td>0.632337</td>\n",
       "      <td>0.840000</td>\n",
       "      <td>0.766957</td>\n",
       "    </tr>\n",
       "    <tr>\n",
       "      <th>5</th>\n",
       "      <td>MultilayerPerceptronClassifier</td>\n",
       "      <td>0.733333</td>\n",
       "      <td>0.620513</td>\n",
       "      <td>0.840000</td>\n",
       "      <td>0.766957</td>\n",
       "    </tr>\n",
       "    <tr>\n",
       "      <th>2</th>\n",
       "      <td>NaiveBayes</td>\n",
       "      <td>0.700000</td>\n",
       "      <td>0.698780</td>\n",
       "      <td>0.693333</td>\n",
       "      <td>0.731587</td>\n",
       "    </tr>\n",
       "  </tbody>\n",
       "</table>\n",
       "</div>"
      ],
      "text/plain": [
       "                              clf  acc_train  f1_train  acc_test   f1_test\n",
       "4          RandomForestClassifier   0.900000  0.893088  0.826667  0.823581\n",
       "1              LogisticRegression   0.780000  0.750433  0.826667  0.795542\n",
       "3                   GBTClassifier   1.000000  1.000000  0.786667  0.786667\n",
       "0                       LinearSVC   0.733333  0.632337  0.840000  0.766957\n",
       "5  MultilayerPerceptronClassifier   0.733333  0.620513  0.840000  0.766957\n",
       "2                      NaiveBayes   0.700000  0.698780  0.693333  0.731587"
      ]
     },
     "execution_count": 31,
     "metadata": {},
     "output_type": "execute_result"
    }
   ],
   "source": [
    "df_result = pd.DataFrame(result, columns=['clf', 'acc_train', 'f1_train', 'acc_test', 'f1_test'])\n",
    "df_result.sort_values('f1_test', ascending=False)"
   ]
  },
  {
   "cell_type": "markdown",
   "metadata": {},
   "source": [
    "As can be seen from above table, Random Forest give the best result here.\n",
    "\n",
    "We can clearly see overfitting occurs here, which is the train result is signification higher than the test result.\n",
    "\n",
    "To improve prediction result, I choose to tuning the best model, which is random forest to reduce the overfitting."
   ]
  },
  {
   "cell_type": "code",
   "execution_count": 32,
   "metadata": {
    "ExecuteTime": {
     "end_time": "2022-04-13T10:07:41.789718Z",
     "start_time": "2022-04-13T10:07:41.571127Z"
    }
   },
   "outputs": [
    {
     "data": {
      "image/png": "[encoded data removed]",
      "text/plain": [
       "<Figure size 1080x360 with 1 Axes>"
      ]
     },
     "metadata": {
      "needs_background": "light"
     },
     "output_type": "display_data"
    }
   ],
   "source": [
    "feature_map = {}\n",
    "numeric_f = pipeline.getStages()[2].getInputCols()\n",
    "attrs = train_data.schema[\"features\"].metadata[\"ml_attr\"][\"attrs\"]\n",
    "for it in attrs['numeric']:\n",
    "    feature_map[it['idx']] = numeric_f[it['idx']]\n",
    "for it in attrs['binary']:\n",
    "    feature_map[it['idx']] = it['name']\n",
    "\n",
    "features_importance = models[4].featureImportances.toArray()\n",
    "features_importance = [(feature_map[i], f) for i, f in enumerate(features_importance)]\n",
    "df_features_importance = pd.DataFrame(features_importance, columns=['feature_name', 'feature_importance']).sort_values('feature_importance', ascending=True)\n",
    "fig, ax = plt.subplots(figsize=(15, 5))\n",
    "df_features_importance.plot.barh(x='feature_name', y='feature_importance', ax=ax)\n",
    "plt.show()\n",
    "plt.close()"
   ]
  },
  {
   "cell_type": "markdown",
   "metadata": {},
   "source": [
    "We can clearly see that ser_days is the most important features. "
   ]
  },
  {
   "cell_type": "markdown",
   "metadata": {},
   "source": [
    "## 4.2 Tuning model"
   ]
  },
  {
   "cell_type": "markdown",
   "metadata": {},
   "source": [
    "### RandomForest"
   ]
  },
  {
   "cell_type": "markdown",
   "metadata": {},
   "source": [
    "Firstly, let's check the parameter of previous Random Forest"
   ]
  },
  {
   "cell_type": "code",
   "execution_count": 33,
   "metadata": {
    "ExecuteTime": {
     "end_time": "2022-04-13T10:07:41.805744Z",
     "start_time": "2022-04-13T10:07:41.791718Z"
    }
   },
   "outputs": [
    {
     "data": {
      "text/plain": [
       "{Param(parent='RandomForestClassifier_29d705237495', name='bootstrap', doc='Whether bootstrap samples are used when building trees.'): True,\n",
       " Param(parent='RandomForestClassifier_29d705237495', name='cacheNodeIds', doc='If false, the algorithm will pass trees to executors to match instances with nodes. If true, the algorithm will cache node IDs for each instance. Caching can speed up training of deeper trees. Users can set how often should the cache be checkpointed or disable it by setting checkpointInterval.'): False,\n",
       " Param(parent='RandomForestClassifier_29d705237495', name='checkpointInterval', doc='set checkpoint interval (>= 1) or disable checkpoint (-1). E.g. 10 means that the cache will get checkpointed every 10 iterations. Note: this setting will be ignored if the checkpoint directory is not set in the SparkContext.'): 10,\n",
       " Param(parent='RandomForestClassifier_29d705237495', name='featureSubsetStrategy', doc=\"The number of features to consider for splits at each tree node. Supported options: 'auto' (choose automatically for task: If numTrees == 1, set to 'all'. If numTrees > 1 (forest), set to 'sqrt' for classification and to 'onethird' for regression), 'all' (use all features), 'onethird' (use 1/3 of the features), 'sqrt' (use sqrt(number of features)), 'log2' (use log2(number of features)), 'n' (when n is in the range (0, 1.0], use n * number of features. When n is in the range (1, number of features), use n features). default = 'auto'\"): 'auto',\n",
       " Param(parent='RandomForestClassifier_29d705237495', name='featuresCol', doc='features column name.'): 'features',\n",
       " Param(parent='RandomForestClassifier_29d705237495', name='impurity', doc='Criterion used for information gain calculation (case-insensitive). Supported options: entropy, gini'): 'gini',\n",
       " Param(parent='RandomForestClassifier_29d705237495', name='labelCol', doc='label column name.'): 'is_churn',\n",
       " Param(parent='RandomForestClassifier_29d705237495', name='leafCol', doc='Leaf indices column name. Predicted leaf index of each instance in each tree by preorder.'): '',\n",
       " Param(parent='RandomForestClassifier_29d705237495', name='maxBins', doc='Max number of bins for discretizing continuous features.  Must be >=2 and >= number of categories for any categorical feature.'): 32,\n",
       " Param(parent='RandomForestClassifier_29d705237495', name='maxDepth', doc='Maximum depth of the tree. (>= 0) E.g., depth 0 means 1 leaf node; depth 1 means 1 internal node + 2 leaf nodes.'): 5,\n",
       " Param(parent='RandomForestClassifier_29d705237495', name='maxMemoryInMB', doc='Maximum memory in MB allocated to histogram aggregation. If too small, then 1 node will be split per iteration, and its aggregates may exceed this size.'): 256,\n",
       " Param(parent='RandomForestClassifier_29d705237495', name='minInfoGain', doc='Minimum information gain for a split to be considered at a tree node.'): 0.0,\n",
       " Param(parent='RandomForestClassifier_29d705237495', name='minInstancesPerNode', doc='Minimum number of instances each child must have after split. If a split causes the left or right child to have fewer than minInstancesPerNode, the split will be discarded as invalid. Should be >= 1.'): 1,\n",
       " Param(parent='RandomForestClassifier_29d705237495', name='minWeightFractionPerNode', doc='Minimum fraction of the weighted sample count that each child must have after split. If a split causes the fraction of the total weight in the left or right child to be less than minWeightFractionPerNode, the split will be discarded as invalid. Should be in interval [0.0, 0.5).'): 0.0,\n",
       " Param(parent='RandomForestClassifier_29d705237495', name='numTrees', doc='Number of trees to train (>= 1).'): 20,\n",
       " Param(parent='RandomForestClassifier_29d705237495', name='predictionCol', doc='prediction column name.'): 'prediction',\n",
       " Param(parent='RandomForestClassifier_29d705237495', name='probabilityCol', doc='Column name for predicted class conditional probabilities. Note: Not all models output well-calibrated probability estimates! These probabilities should be treated as confidences, not precise probabilities.'): 'probability',\n",
       " Param(parent='RandomForestClassifier_29d705237495', name='rawPredictionCol', doc='raw prediction (a.k.a. confidence) column name.'): 'rawPrediction',\n",
       " Param(parent='RandomForestClassifier_29d705237495', name='seed', doc='random seed.'): 0,\n",
       " Param(parent='RandomForestClassifier_29d705237495', name='subsamplingRate', doc='Fraction of the training data used for learning each decision tree, in range (0, 1].'): 1.0}"
      ]
     },
     "execution_count": 33,
     "metadata": {},
     "output_type": "execute_result"
    }
   ],
   "source": [
    "models[4].extractParamMap()"
   ]
  },
  {
   "cell_type": "markdown",
   "metadata": {},
   "source": [
    "The previous Random Forest has params:\n",
    "  - numTrees: 20\n",
    "  - maxDepth: 5\n",
    "  - minInstancesPerNode: 1\n",
    "  - impurity: gini\n",
    "  - maxBins: 32\n",
    "\n",
    "To reduce overfitting, we could try to increase numTree, reduce maxDepth, increase minInstancesPerNode. Let's tuning Random Forest model."
   ]
  },
  {
   "cell_type": "code",
   "execution_count": 34,
   "metadata": {
    "ExecuteTime": {
     "end_time": "2022-04-13T10:07:41.835800Z",
     "start_time": "2022-04-13T10:07:41.807751Z"
    }
   },
   "outputs": [],
   "source": [
    "rf = RandomForestClassifier(featuresCol=features_col, labelCol=label_col, seed=0)\n",
    "paramGrid = ParamGridBuilder()\\\n",
    "    .addGrid(rf.numTrees, [10, 20, 100])\\\n",
    "    .addGrid(rf.maxDepth, [3, 5, 7])\\\n",
    "    .addGrid(rf.minInstancesPerNode, [1, 3, 5])\\\n",
    "    .build()\n",
    "crossval = CrossValidator(estimator=rf, \n",
    "                          estimatorParamMaps=paramGrid, \n",
    "                          evaluator=MulticlassClassificationEvaluator(labelCol=label_col, predictionCol='prediction', metricName='f1'), \n",
    "                          numFolds=3)"
   ]
  },
  {
   "cell_type": "code",
   "execution_count": 35,
   "metadata": {
    "ExecuteTime": {
     "end_time": "2022-04-13T10:08:52.484130Z",
     "start_time": "2022-04-13T10:07:41.837802Z"
    }
   },
   "outputs": [],
   "source": [
    "cv_model = crossval.fit(train_data)"
   ]
  },
  {
   "cell_type": "code",
   "execution_count": 36,
   "metadata": {
    "ExecuteTime": {
     "end_time": "2022-04-13T10:08:52.628239Z",
     "start_time": "2022-04-13T10:08:52.486130Z"
    }
   },
   "outputs": [
    {
     "data": {
      "image/png": "[encoded data removed]",
      "text/plain": [
       "<Figure size 1080x360 with 1 Axes>"
      ]
     },
     "metadata": {
      "needs_background": "light"
     },
     "output_type": "display_data"
    }
   ],
   "source": [
    "fig, ax = plt.subplots(figsize=(15,5))\n",
    "ax.hist(cv_model.avgMetrics, bins=5)\n",
    "ax.axvline(x=np.mean(cv_model.avgMetrics), color='tab:orange')\n",
    "plt.show()\n",
    "plt.close()"
   ]
  },
  {
   "cell_type": "code",
   "execution_count": 37,
   "metadata": {
    "ExecuteTime": {
     "end_time": "2022-04-13T10:08:52.643464Z",
     "start_time": "2022-04-13T10:08:52.631236Z"
    }
   },
   "outputs": [
    {
     "data": {
      "text/plain": [
       "{Param(parent='RandomForestClassifier_a3d32b9b688d', name='bootstrap', doc='Whether bootstrap samples are used when building trees.'): True,\n",
       " Param(parent='RandomForestClassifier_a3d32b9b688d', name='cacheNodeIds', doc='If false, the algorithm will pass trees to executors to match instances with nodes. If true, the algorithm will cache node IDs for each instance. Caching can speed up training of deeper trees. Users can set how often should the cache be checkpointed or disable it by setting checkpointInterval.'): False,\n",
       " Param(parent='RandomForestClassifier_a3d32b9b688d', name='checkpointInterval', doc='set checkpoint interval (>= 1) or disable checkpoint (-1). E.g. 10 means that the cache will get checkpointed every 10 iterations. Note: this setting will be ignored if the checkpoint directory is not set in the SparkContext.'): 10,\n",
       " Param(parent='RandomForestClassifier_a3d32b9b688d', name='featureSubsetStrategy', doc=\"The number of features to consider for splits at each tree node. Supported options: 'auto' (choose automatically for task: If numTrees == 1, set to 'all'. If numTrees > 1 (forest), set to 'sqrt' for classification and to 'onethird' for regression), 'all' (use all features), 'onethird' (use 1/3 of the features), 'sqrt' (use sqrt(number of features)), 'log2' (use log2(number of features)), 'n' (when n is in the range (0, 1.0], use n * number of features. When n is in the range (1, number of features), use n features). default = 'auto'\"): 'auto',\n",
       " Param(parent='RandomForestClassifier_a3d32b9b688d', name='featuresCol', doc='features column name.'): 'features',\n",
       " Param(parent='RandomForestClassifier_a3d32b9b688d', name='impurity', doc='Criterion used for information gain calculation (case-insensitive). Supported options: entropy, gini'): 'gini',\n",
       " Param(parent='RandomForestClassifier_a3d32b9b688d', name='labelCol', doc='label column name.'): 'is_churn',\n",
       " Param(parent='RandomForestClassifier_a3d32b9b688d', name='leafCol', doc='Leaf indices column name. Predicted leaf index of each instance in each tree by preorder.'): '',\n",
       " Param(parent='RandomForestClassifier_a3d32b9b688d', name='maxBins', doc='Max number of bins for discretizing continuous features.  Must be >=2 and >= number of categories for any categorical feature.'): 32,\n",
       " Param(parent='RandomForestClassifier_a3d32b9b688d', name='maxDepth', doc='Maximum depth of the tree. (>= 0) E.g., depth 0 means 1 leaf node; depth 1 means 1 internal node + 2 leaf nodes.'): 5,\n",
       " Param(parent='RandomForestClassifier_a3d32b9b688d', name='maxMemoryInMB', doc='Maximum memory in MB allocated to histogram aggregation. If too small, then 1 node will be split per iteration, and its aggregates may exceed this size.'): 256,\n",
       " Param(parent='RandomForestClassifier_a3d32b9b688d', name='minInfoGain', doc='Minimum information gain for a split to be considered at a tree node.'): 0.0,\n",
       " Param(parent='RandomForestClassifier_a3d32b9b688d', name='minInstancesPerNode', doc='Minimum number of instances each child must have after split. If a split causes the left or right child to have fewer than minInstancesPerNode, the split will be discarded as invalid. Should be >= 1.'): 3,\n",
       " Param(parent='RandomForestClassifier_a3d32b9b688d', name='minWeightFractionPerNode', doc='Minimum fraction of the weighted sample count that each child must have after split. If a split causes the fraction of the total weight in the left or right child to be less than minWeightFractionPerNode, the split will be discarded as invalid. Should be in interval [0.0, 0.5).'): 0.0,\n",
       " Param(parent='RandomForestClassifier_a3d32b9b688d', name='numTrees', doc='Number of trees to train (>= 1).'): 100,\n",
       " Param(parent='RandomForestClassifier_a3d32b9b688d', name='predictionCol', doc='prediction column name.'): 'prediction',\n",
       " Param(parent='RandomForestClassifier_a3d32b9b688d', name='probabilityCol', doc='Column name for predicted class conditional probabilities. Note: Not all models output well-calibrated probability estimates! These probabilities should be treated as confidences, not precise probabilities.'): 'probability',\n",
       " Param(parent='RandomForestClassifier_a3d32b9b688d', name='rawPredictionCol', doc='raw prediction (a.k.a. confidence) column name.'): 'rawPrediction',\n",
       " Param(parent='RandomForestClassifier_a3d32b9b688d', name='seed', doc='random seed.'): 0,\n",
       " Param(parent='RandomForestClassifier_a3d32b9b688d', name='subsamplingRate', doc='Fraction of the training data used for learning each decision tree, in range (0, 1].'): 1.0}"
      ]
     },
     "execution_count": 37,
     "metadata": {},
     "output_type": "execute_result"
    }
   ],
   "source": [
    "cv_model.bestModel.extractParamMap()"
   ]
  },
  {
   "cell_type": "markdown",
   "metadata": {},
   "source": [
    "The best model after tuning has params\n",
    "  - **numTrees: 100**\n",
    "  - maxDepth: 5\n",
    "  - **minInstancesPerNode: 3**\n",
    "  - impurity: gini\n",
    "  - maxBins: 32"
   ]
  },
  {
   "cell_type": "code",
   "execution_count": 38,
   "metadata": {
    "ExecuteTime": {
     "end_time": "2022-04-13T10:08:53.401819Z",
     "start_time": "2022-04-13T10:08:52.646464Z"
    }
   },
   "outputs": [
    {
     "data": {
      "text/html": [
       "<div>\n",
       "<style scoped>\n",
       "    .dataframe tbody tr th:only-of-type {\n",
       "        vertical-align: middle;\n",
       "    }\n",
       "\n",
       "    .dataframe tbody tr th {\n",
       "        vertical-align: top;\n",
       "    }\n",
       "\n",
       "    .dataframe thead th {\n",
       "        text-align: right;\n",
       "    }\n",
       "</style>\n",
       "<table border=\"1\" class=\"dataframe\">\n",
       "  <thead>\n",
       "    <tr style=\"text-align: right;\">\n",
       "      <th></th>\n",
       "      <th>clf</th>\n",
       "      <th>acc_train</th>\n",
       "      <th>f1_train</th>\n",
       "      <th>acc_test</th>\n",
       "      <th>f1_test</th>\n",
       "    </tr>\n",
       "  </thead>\n",
       "  <tbody>\n",
       "    <tr>\n",
       "      <th>0</th>\n",
       "      <td>RandomForestClassifier</td>\n",
       "      <td>0.900000</td>\n",
       "      <td>0.893088</td>\n",
       "      <td>0.826667</td>\n",
       "      <td>0.823581</td>\n",
       "    </tr>\n",
       "    <tr>\n",
       "      <th>1</th>\n",
       "      <td>RFTuning</td>\n",
       "      <td>0.886667</td>\n",
       "      <td>0.877207</td>\n",
       "      <td>0.853333</td>\n",
       "      <td>0.850722</td>\n",
       "    </tr>\n",
       "  </tbody>\n",
       "</table>\n",
       "</div>"
      ],
      "text/plain": [
       "                      clf  acc_train  f1_train  acc_test   f1_test\n",
       "0  RandomForestClassifier   0.900000  0.893088  0.826667  0.823581\n",
       "1                RFTuning   0.886667  0.877207  0.853333  0.850722"
      ]
     },
     "execution_count": 38,
     "metadata": {},
     "output_type": "execute_result"
    }
   ],
   "source": [
    "acc_train_t, f1_train_t, acc_test_t, f1_test_t = get_model_performance(cv_model.bestModel, train_data, test_data)\n",
    "df_result_after_tuning = df_result[df_result.clf=='RandomForestClassifier']\n",
    "df_result_after_tuning = df_result_after_tuning.append(\n",
    "    {'clf': 'RFTuning', 'acc_train': acc_train_t, 'f1_train': f1_train_t, 'acc_test': acc_test_t, 'f1_test': f1_test_t}, \n",
    "    ignore_index=True)\n",
    "df_result_after_tuning"
   ]
  },
  {
   "cell_type": "markdown",
   "metadata": {},
   "source": [
    "After tuning, the overfitting problem is reduced, the quality of model is signification increased in test data."
   ]
  },
  {
   "cell_type": "markdown",
   "metadata": {},
   "source": [
    "# 5. Conclusion"
   ]
  },
  {
   "cell_type": "markdown",
   "metadata": {},
   "source": [
    "- **What I did**\n",
    "  - Manipulate (load, clean, group) data with Pyspark\n",
    "  - Do EDA to understand data and find pattern of churned user\n",
    "  - Use Pyspark ML lib to do feature engineering, training and tuning model\n",
    "    \n",
    "- **Results**\n",
    "  - Understand the pattern of churned user\n",
    "  - Understand how to do preprocess and feature engineering with Pyspark\n",
    "  - Archive Random Forest model which has high accuracy and F1 of 0.85\n",
    "\n",
    "- **Discussions/Improvement**\n",
    "  - The first 2 months is the time that churn ratio is high. So, we should do some campaign to keep the new users (such as, give them coupon, etc.)\n",
    "  - The features may be bias by the time user remain. For example, the users do not churn, they stay long, so they have high request number. It should be considered to add statistical features in recent time (e.g request number of last week, number of unique song the user listen to last week, etc.)"
   ]
  },
  {
   "cell_type": "code",
   "execution_count": null,
   "metadata": {},
   "outputs": [],
   "source": []
  }
 ],
 "metadata": {
  "kernelspec": {
   "display_name": "Python 3 (ipykernel)",
   "language": "python",
   "name": "python3"
  },
  "language_info": {
   "codemirror_mode": {
    "name": "ipython",
    "version": 3
   },
   "file_extension": ".py",
   "mimetype": "text/x-python",
   "name": "python",
   "nbconvert_exporter": "python",
   "pygments_lexer": "ipython3",
   "version": "3.9.7"
  }
 },
 "nbformat": 4,
 "nbformat_minor": 2
}
